{
 "cells": [
  {
   "cell_type": "code",
   "execution_count": 18,
   "metadata": {},
   "outputs": [],
   "source": [
    "import pandas as pd"
   ]
  },
  {
   "cell_type": "code",
   "execution_count": 19,
   "metadata": {},
   "outputs": [
    {
     "data": {
      "text/plain": [
       "Index(['fid', 'name', 'population', 'county', 'latitude'], dtype='object')"
      ]
     },
     "metadata": {},
     "output_type": "display_data"
    },
    {
     "data": {
      "text/plain": [
       "Index(['name', 'population', 'county', 'longitude', 'level', 'enrollment',\n",
       "       'level.1'],\n",
       "      dtype='object')"
      ]
     },
     "metadata": {},
     "output_type": "display_data"
    }
   ],
   "source": [
    "df1 = pd.read_csv('data1.csv')\n",
    "df2 = pd.read_csv('data2.csv')\n",
    "\n",
    "display(df1.columns)\n",
    "display(df2.columns)"
   ]
  },
  {
   "cell_type": "code",
   "execution_count": 20,
   "metadata": {},
   "outputs": [
    {
     "data": {
      "text/html": [
       "<div>\n",
       "<style scoped>\n",
       "    .dataframe tbody tr th:only-of-type {\n",
       "        vertical-align: middle;\n",
       "    }\n",
       "\n",
       "    .dataframe tbody tr th {\n",
       "        vertical-align: top;\n",
       "    }\n",
       "\n",
       "    .dataframe thead th {\n",
       "        text-align: right;\n",
       "    }\n",
       "</style>\n",
       "<table border=\"1\" class=\"dataframe\">\n",
       "  <thead>\n",
       "    <tr style=\"text-align: right;\">\n",
       "      <th></th>\n",
       "      <th>fid</th>\n",
       "      <th>name</th>\n",
       "      <th>population</th>\n",
       "      <th>county</th>\n",
       "      <th>latitude</th>\n",
       "    </tr>\n",
       "  </thead>\n",
       "  <tbody>\n",
       "    <tr>\n",
       "      <th>0</th>\n",
       "      <td>9001</td>\n",
       "      <td>NEW ENGLAND CHRISTIAN ACADEMY</td>\n",
       "      <td>136</td>\n",
       "      <td>BRISTOL</td>\n",
       "      <td>41.758597</td>\n",
       "    </tr>\n",
       "    <tr>\n",
       "      <th>1</th>\n",
       "      <td>9002</td>\n",
       "      <td>SETON ACADEMY FOR GIRLS</td>\n",
       "      <td>57</td>\n",
       "      <td>BRISTOL</td>\n",
       "      <td>41.718407</td>\n",
       "    </tr>\n",
       "    <tr>\n",
       "      <th>2</th>\n",
       "      <td>9003</td>\n",
       "      <td>ST ANNA SCHOOL</td>\n",
       "      <td>157</td>\n",
       "      <td>WORCESTER</td>\n",
       "      <td>42.517271</td>\n",
       "    </tr>\n",
       "    <tr>\n",
       "      <th>3</th>\n",
       "      <td>9004</td>\n",
       "      <td>SOUTHEAST ALTERNATIVE SCHOOL-MIDDLE SCHOOL</td>\n",
       "      <td>5</td>\n",
       "      <td>PLYMOUTH</td>\n",
       "      <td>41.818210</td>\n",
       "    </tr>\n",
       "    <tr>\n",
       "      <th>4</th>\n",
       "      <td>9005</td>\n",
       "      <td>DEVEREUX SCHOOL</td>\n",
       "      <td>123</td>\n",
       "      <td>WORCESTER</td>\n",
       "      <td>42.383875</td>\n",
       "    </tr>\n",
       "  </tbody>\n",
       "</table>\n",
       "</div>"
      ],
      "text/plain": [
       "    fid                                        name  population     county  \\\n",
       "0  9001               NEW ENGLAND CHRISTIAN ACADEMY         136    BRISTOL   \n",
       "1  9002                     SETON ACADEMY FOR GIRLS          57    BRISTOL   \n",
       "2  9003                              ST ANNA SCHOOL         157  WORCESTER   \n",
       "3  9004  SOUTHEAST ALTERNATIVE SCHOOL-MIDDLE SCHOOL           5   PLYMOUTH   \n",
       "4  9005                             DEVEREUX SCHOOL         123  WORCESTER   \n",
       "\n",
       "    latitude  \n",
       "0  41.758597  \n",
       "1  41.718407  \n",
       "2  42.517271  \n",
       "3  41.818210  \n",
       "4  42.383875  "
      ]
     },
     "metadata": {},
     "output_type": "display_data"
    },
    {
     "data": {
      "text/html": [
       "<div>\n",
       "<style scoped>\n",
       "    .dataframe tbody tr th:only-of-type {\n",
       "        vertical-align: middle;\n",
       "    }\n",
       "\n",
       "    .dataframe tbody tr th {\n",
       "        vertical-align: top;\n",
       "    }\n",
       "\n",
       "    .dataframe thead th {\n",
       "        text-align: right;\n",
       "    }\n",
       "</style>\n",
       "<table border=\"1\" class=\"dataframe\">\n",
       "  <thead>\n",
       "    <tr style=\"text-align: right;\">\n",
       "      <th></th>\n",
       "      <th>name</th>\n",
       "      <th>population</th>\n",
       "      <th>county</th>\n",
       "      <th>longitude</th>\n",
       "      <th>level</th>\n",
       "      <th>enrollment</th>\n",
       "      <th>level.1</th>\n",
       "    </tr>\n",
       "  </thead>\n",
       "  <tbody>\n",
       "    <tr>\n",
       "      <th>0</th>\n",
       "      <td>NEW ENGLAND CHRISTIAN ACADEMY</td>\n",
       "      <td>136</td>\n",
       "      <td>BRISTOL</td>\n",
       "      <td>-71.175801</td>\n",
       "      <td>Combined elementary and secondary</td>\n",
       "      <td>120</td>\n",
       "      <td>Combined elementary and secondary</td>\n",
       "    </tr>\n",
       "    <tr>\n",
       "      <th>1</th>\n",
       "      <td>SETON ACADEMY FOR GIRLS</td>\n",
       "      <td>57</td>\n",
       "      <td>BRISTOL</td>\n",
       "      <td>-71.147302</td>\n",
       "      <td>Elementary</td>\n",
       "      <td>49</td>\n",
       "      <td>Elementary</td>\n",
       "    </tr>\n",
       "    <tr>\n",
       "      <th>2</th>\n",
       "      <td>ST ANNA SCHOOL</td>\n",
       "      <td>157</td>\n",
       "      <td>WORCESTER</td>\n",
       "      <td>-71.751741</td>\n",
       "      <td>Elementary</td>\n",
       "      <td>143</td>\n",
       "      <td>Elementary</td>\n",
       "    </tr>\n",
       "    <tr>\n",
       "      <th>3</th>\n",
       "      <td>SOUTHEAST ALTERNATIVE SCHOOL-MIDDLE SCHOOL</td>\n",
       "      <td>5</td>\n",
       "      <td>PLYMOUTH</td>\n",
       "      <td>-71.083393</td>\n",
       "      <td>Elementary</td>\n",
       "      <td>4</td>\n",
       "      <td>Elementary</td>\n",
       "    </tr>\n",
       "    <tr>\n",
       "      <th>4</th>\n",
       "      <td>DEVEREUX SCHOOL</td>\n",
       "      <td>123</td>\n",
       "      <td>WORCESTER</td>\n",
       "      <td>-71.968419</td>\n",
       "      <td>Combined elementary and secondary</td>\n",
       "      <td>107</td>\n",
       "      <td>Combined elementary and secondary</td>\n",
       "    </tr>\n",
       "  </tbody>\n",
       "</table>\n",
       "</div>"
      ],
      "text/plain": [
       "                                         name  population     county  \\\n",
       "0               NEW ENGLAND CHRISTIAN ACADEMY         136    BRISTOL   \n",
       "1                     SETON ACADEMY FOR GIRLS          57    BRISTOL   \n",
       "2                              ST ANNA SCHOOL         157  WORCESTER   \n",
       "3  SOUTHEAST ALTERNATIVE SCHOOL-MIDDLE SCHOOL           5   PLYMOUTH   \n",
       "4                             DEVEREUX SCHOOL         123  WORCESTER   \n",
       "\n",
       "   longitude                              level  enrollment  \\\n",
       "0 -71.175801  Combined elementary and secondary         120   \n",
       "1 -71.147302                         Elementary          49   \n",
       "2 -71.751741                         Elementary         143   \n",
       "3 -71.083393                         Elementary           4   \n",
       "4 -71.968419  Combined elementary and secondary         107   \n",
       "\n",
       "                             level.1  \n",
       "0  Combined elementary and secondary  \n",
       "1                         Elementary  \n",
       "2                         Elementary  \n",
       "3                         Elementary  \n",
       "4  Combined elementary and secondary  "
      ]
     },
     "metadata": {},
     "output_type": "display_data"
    }
   ],
   "source": [
    "display(df1.head())\n",
    "display(df2.head())"
   ]
  },
  {
   "cell_type": "code",
   "execution_count": 21,
   "metadata": {},
   "outputs": [
    {
     "data": {
      "text/html": [
       "<div>\n",
       "<style scoped>\n",
       "    .dataframe tbody tr th:only-of-type {\n",
       "        vertical-align: middle;\n",
       "    }\n",
       "\n",
       "    .dataframe tbody tr th {\n",
       "        vertical-align: top;\n",
       "    }\n",
       "\n",
       "    .dataframe thead th {\n",
       "        text-align: right;\n",
       "    }\n",
       "</style>\n",
       "<table border=\"1\" class=\"dataframe\">\n",
       "  <thead>\n",
       "    <tr style=\"text-align: right;\">\n",
       "      <th></th>\n",
       "      <th>fid</th>\n",
       "      <th>name</th>\n",
       "      <th>population</th>\n",
       "      <th>county</th>\n",
       "      <th>latitude</th>\n",
       "      <th>longitude</th>\n",
       "      <th>level</th>\n",
       "      <th>enrollment</th>\n",
       "      <th>level.1</th>\n",
       "    </tr>\n",
       "  </thead>\n",
       "  <tbody>\n",
       "    <tr>\n",
       "      <th>0</th>\n",
       "      <td>9001</td>\n",
       "      <td>NEW ENGLAND CHRISTIAN ACADEMY</td>\n",
       "      <td>136</td>\n",
       "      <td>BRISTOL</td>\n",
       "      <td>41.758597</td>\n",
       "      <td>-71.175801</td>\n",
       "      <td>Combined elementary and secondary</td>\n",
       "      <td>120</td>\n",
       "      <td>Combined elementary and secondary</td>\n",
       "    </tr>\n",
       "    <tr>\n",
       "      <th>1</th>\n",
       "      <td>9002</td>\n",
       "      <td>SETON ACADEMY FOR GIRLS</td>\n",
       "      <td>57</td>\n",
       "      <td>BRISTOL</td>\n",
       "      <td>41.718407</td>\n",
       "      <td>-71.147302</td>\n",
       "      <td>Elementary</td>\n",
       "      <td>49</td>\n",
       "      <td>Elementary</td>\n",
       "    </tr>\n",
       "    <tr>\n",
       "      <th>2</th>\n",
       "      <td>9003</td>\n",
       "      <td>ST ANNA SCHOOL</td>\n",
       "      <td>157</td>\n",
       "      <td>WORCESTER</td>\n",
       "      <td>42.517271</td>\n",
       "      <td>-71.751741</td>\n",
       "      <td>Elementary</td>\n",
       "      <td>143</td>\n",
       "      <td>Elementary</td>\n",
       "    </tr>\n",
       "    <tr>\n",
       "      <th>3</th>\n",
       "      <td>9004</td>\n",
       "      <td>SOUTHEAST ALTERNATIVE SCHOOL-MIDDLE SCHOOL</td>\n",
       "      <td>5</td>\n",
       "      <td>PLYMOUTH</td>\n",
       "      <td>41.818210</td>\n",
       "      <td>-71.083393</td>\n",
       "      <td>Elementary</td>\n",
       "      <td>4</td>\n",
       "      <td>Elementary</td>\n",
       "    </tr>\n",
       "    <tr>\n",
       "      <th>4</th>\n",
       "      <td>9005</td>\n",
       "      <td>DEVEREUX SCHOOL</td>\n",
       "      <td>123</td>\n",
       "      <td>WORCESTER</td>\n",
       "      <td>42.383875</td>\n",
       "      <td>-71.968419</td>\n",
       "      <td>Combined elementary and secondary</td>\n",
       "      <td>107</td>\n",
       "      <td>Combined elementary and secondary</td>\n",
       "    </tr>\n",
       "  </tbody>\n",
       "</table>\n",
       "</div>"
      ],
      "text/plain": [
       "    fid                                        name  population     county  \\\n",
       "0  9001               NEW ENGLAND CHRISTIAN ACADEMY         136    BRISTOL   \n",
       "1  9002                     SETON ACADEMY FOR GIRLS          57    BRISTOL   \n",
       "2  9003                              ST ANNA SCHOOL         157  WORCESTER   \n",
       "3  9004  SOUTHEAST ALTERNATIVE SCHOOL-MIDDLE SCHOOL           5   PLYMOUTH   \n",
       "4  9005                             DEVEREUX SCHOOL         123  WORCESTER   \n",
       "\n",
       "    latitude  longitude                              level  enrollment  \\\n",
       "0  41.758597 -71.175801  Combined elementary and secondary         120   \n",
       "1  41.718407 -71.147302                         Elementary          49   \n",
       "2  42.517271 -71.751741                         Elementary         143   \n",
       "3  41.818210 -71.083393                         Elementary           4   \n",
       "4  42.383875 -71.968419  Combined elementary and secondary         107   \n",
       "\n",
       "                             level.1  \n",
       "0  Combined elementary and secondary  \n",
       "1                         Elementary  \n",
       "2                         Elementary  \n",
       "3                         Elementary  \n",
       "4  Combined elementary and secondary  "
      ]
     },
     "execution_count": 21,
     "metadata": {},
     "output_type": "execute_result"
    }
   ],
   "source": [
    "\n",
    "df = df1.merge(df2, on=list(set(df1.columns) & set(df2.columns)))\n",
    "\n",
    "df.head()"
   ]
  },
  {
   "cell_type": "code",
   "execution_count": 22,
   "metadata": {},
   "outputs": [
    {
     "data": {
      "text/plain": [
       "(27033, 9)"
      ]
     },
     "execution_count": 22,
     "metadata": {},
     "output_type": "execute_result"
    }
   ],
   "source": [
    "df.shape"
   ]
  },
  {
   "cell_type": "code",
   "execution_count": 25,
   "metadata": {},
   "outputs": [
    {
     "data": {
      "text/html": [
       "<div>\n",
       "<style scoped>\n",
       "    .dataframe tbody tr th:only-of-type {\n",
       "        vertical-align: middle;\n",
       "    }\n",
       "\n",
       "    .dataframe tbody tr th {\n",
       "        vertical-align: top;\n",
       "    }\n",
       "\n",
       "    .dataframe thead th {\n",
       "        text-align: right;\n",
       "    }\n",
       "</style>\n",
       "<table border=\"1\" class=\"dataframe\">\n",
       "  <thead>\n",
       "    <tr style=\"text-align: right;\">\n",
       "      <th></th>\n",
       "      <th>county</th>\n",
       "      <th>city</th>\n",
       "      <th>score</th>\n",
       "    </tr>\n",
       "  </thead>\n",
       "  <tbody>\n",
       "    <tr>\n",
       "      <th>0</th>\n",
       "      <td>BRISTOL</td>\n",
       "      <td>SWANSEA</td>\n",
       "      <td>16</td>\n",
       "    </tr>\n",
       "    <tr>\n",
       "      <th>1</th>\n",
       "      <td>BRISTOL</td>\n",
       "      <td>FALL RIVER</td>\n",
       "      <td>8</td>\n",
       "    </tr>\n",
       "    <tr>\n",
       "      <th>2</th>\n",
       "      <td>WORCESTER</td>\n",
       "      <td>LEOMINSTER</td>\n",
       "      <td>14</td>\n",
       "    </tr>\n",
       "    <tr>\n",
       "      <th>3</th>\n",
       "      <td>PLYMOUTH</td>\n",
       "      <td>MIDDLEBORO</td>\n",
       "      <td>1</td>\n",
       "    </tr>\n",
       "    <tr>\n",
       "      <th>4</th>\n",
       "      <td>WORCESTER</td>\n",
       "      <td>RUTLAND</td>\n",
       "      <td>16</td>\n",
       "    </tr>\n",
       "  </tbody>\n",
       "</table>\n",
       "</div>"
      ],
      "text/plain": [
       "      county        city  score\n",
       "0    BRISTOL     SWANSEA     16\n",
       "1    BRISTOL  FALL RIVER      8\n",
       "2  WORCESTER  LEOMINSTER     14\n",
       "3   PLYMOUTH  MIDDLEBORO      1\n",
       "4  WORCESTER     RUTLAND     16"
      ]
     },
     "execution_count": 25,
     "metadata": {},
     "output_type": "execute_result"
    }
   ],
   "source": [
    "df3 = pd.read_csv('data3.csv')\n",
    "\n",
    "df3.head()"
   ]
  },
  {
   "cell_type": "code",
   "execution_count": 29,
   "metadata": {},
   "outputs": [
    {
     "data": {
      "text/plain": [
       "(4221333, 7)"
      ]
     },
     "execution_count": 29,
     "metadata": {},
     "output_type": "execute_result"
    }
   ],
   "source": [
    "comboAC = df1.merge(df3, on=list(set(df1.columns) & set(df3.columns)))\n",
    "\n",
    "comboAC.shape"
   ]
  }
 ],
 "metadata": {
  "kernelspec": {
   "display_name": "venv",
   "language": "python",
   "name": "python3"
  },
  "language_info": {
   "codemirror_mode": {
    "name": "ipython",
    "version": 3
   },
   "file_extension": ".py",
   "mimetype": "text/x-python",
   "name": "python",
   "nbconvert_exporter": "python",
   "pygments_lexer": "ipython3",
   "version": "3.12.2"
  }
 },
 "nbformat": 4,
 "nbformat_minor": 2
}
