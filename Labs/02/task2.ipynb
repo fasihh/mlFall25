{
 "cells": [
  {
   "cell_type": "code",
   "execution_count": 10,
   "metadata": {},
   "outputs": [],
   "source": [
    "import pandas as pd\n",
    "import numpy as np\n",
    "import matplotlib.pyplot as plt\n",
    "import seaborn as sns"
   ]
  },
  {
   "cell_type": "code",
   "execution_count": 22,
   "metadata": {},
   "outputs": [],
   "source": [
    "df = pd.read_csv('data1.csv')\n",
    "\n",
    "# at least one similar column as the datasets provided\n",
    "county = pd.read_csv('data1.csv').loc[:, 'county'].unique()\n",
    "# required columns\n",
    "sizes = ['small', 'medium', 'high']\n",
    "cardinal_directions = ['north', 'south', 'east', 'west']\n",
    "timings = ['fulltime', 'parttime']\n",
    "# salary generator: numeric and continuous\n",
    "salary = lambda l, r: np.random.randint(l, r)\n",
    "# categorical\n",
    "gender = ['male', 'female']\n",
    "\n"
   ]
  },
  {
   "cell_type": "code",
   "execution_count": null,
   "metadata": {},
   "outputs": [],
   "source": []
  }
 ],
 "metadata": {
  "kernelspec": {
   "display_name": "venv",
   "language": "python",
   "name": "python3"
  },
  "language_info": {
   "codemirror_mode": {
    "name": "ipython",
    "version": 3
   },
   "file_extension": ".py",
   "mimetype": "text/x-python",
   "name": "python",
   "nbconvert_exporter": "python",
   "pygments_lexer": "ipython3",
   "version": "3.12.2"
  }
 },
 "nbformat": 4,
 "nbformat_minor": 2
}
