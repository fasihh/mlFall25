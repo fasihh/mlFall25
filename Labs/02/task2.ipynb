{
 "cells": [
  {
   "cell_type": "code",
   "execution_count": 46,
   "metadata": {},
   "outputs": [],
   "source": [
    "import pandas as pd\n",
    "import numpy as np\n",
    "from functools import reduce"
   ]
  },
  {
   "cell_type": "code",
   "execution_count": 54,
   "metadata": {},
   "outputs": [
    {
     "data": {
      "text/html": [
       "<div>\n",
       "<style scoped>\n",
       "    .dataframe tbody tr th:only-of-type {\n",
       "        vertical-align: middle;\n",
       "    }\n",
       "\n",
       "    .dataframe tbody tr th {\n",
       "        vertical-align: top;\n",
       "    }\n",
       "\n",
       "    .dataframe thead th {\n",
       "        text-align: right;\n",
       "    }\n",
       "</style>\n",
       "<table border=\"1\" class=\"dataframe\">\n",
       "  <thead>\n",
       "    <tr style=\"text-align: right;\">\n",
       "      <th></th>\n",
       "      <th>county</th>\n",
       "      <th>size</th>\n",
       "      <th>direction</th>\n",
       "      <th>timing</th>\n",
       "      <th>gender</th>\n",
       "      <th>salary</th>\n",
       "    </tr>\n",
       "  </thead>\n",
       "  <tbody>\n",
       "    <tr>\n",
       "      <th>0</th>\n",
       "      <td>COWLITZ</td>\n",
       "      <td>high</td>\n",
       "      <td>south</td>\n",
       "      <td>parttime</td>\n",
       "      <td>male</td>\n",
       "      <td>82741</td>\n",
       "    </tr>\n",
       "    <tr>\n",
       "      <th>1</th>\n",
       "      <td>DONA ANA</td>\n",
       "      <td>small</td>\n",
       "      <td>south</td>\n",
       "      <td>parttime</td>\n",
       "      <td>male</td>\n",
       "      <td>81646</td>\n",
       "    </tr>\n",
       "    <tr>\n",
       "      <th>2</th>\n",
       "      <td>YALOBUSHA</td>\n",
       "      <td>small</td>\n",
       "      <td>east</td>\n",
       "      <td>parttime</td>\n",
       "      <td>male</td>\n",
       "      <td>47160</td>\n",
       "    </tr>\n",
       "    <tr>\n",
       "      <th>3</th>\n",
       "      <td>KENT</td>\n",
       "      <td>small</td>\n",
       "      <td>east</td>\n",
       "      <td>parttime</td>\n",
       "      <td>female</td>\n",
       "      <td>68964</td>\n",
       "    </tr>\n",
       "    <tr>\n",
       "      <th>4</th>\n",
       "      <td>HASKELL</td>\n",
       "      <td>medium</td>\n",
       "      <td>west</td>\n",
       "      <td>fulltime</td>\n",
       "      <td>male</td>\n",
       "      <td>36873</td>\n",
       "    </tr>\n",
       "  </tbody>\n",
       "</table>\n",
       "</div>"
      ],
      "text/plain": [
       "      county    size direction    timing  gender  salary\n",
       "0    COWLITZ    high     south  parttime    male   82741\n",
       "1   DONA ANA   small     south  parttime    male   81646\n",
       "2  YALOBUSHA   small      east  parttime    male   47160\n",
       "3       KENT   small      east  parttime  female   68964\n",
       "4    HASKELL  medium      west  fulltime    male   36873"
      ]
     },
     "execution_count": 54,
     "metadata": {},
     "output_type": "execute_result"
    }
   ],
   "source": [
    "dfA = pd.read_csv('../data/lab02/data1.csv')\n",
    "dfB = pd.read_csv('../data/lab02/data2.csv')\n",
    "dfC = pd.read_csv('../data/lab02/data3.csv')\n",
    "\n",
    "np.random.seed(727)\n",
    "\n",
    "similar_column = next(iter(set(dfA.columns) & set(dfB.columns) & set(dfC.columns)))\n",
    "unique_vals = list(reduce(lambda acc, x: acc | set(x), [df[similar_column].unique() for df in [dfA, dfB, dfC]], set()))\n",
    "\n",
    "sizes = ['small', 'medium', 'high']\n",
    "directions = ['north', 'south', 'east', 'west']\n",
    "timings = ['fulltime', 'parttime']\n",
    "genders = ['male', 'female']\n",
    "\n",
    "N = 20\n",
    "customizedData = pd.DataFrame({\n",
    "  similar_column: np.random.choice(unique_vals, size=N),\n",
    "  \"size\": np.random.choice(sizes, size=N),\n",
    "  \"direction\": np.random.choice(directions, size=N),\n",
    "  \"timing\": np.random.choice(timings, size=N),\n",
    "  \"gender\": np.random.choice(genders, size=N),\n",
    "  \"salary\": np.random.randint(20000, 100000, size=N)\n",
    "})\n",
    "\n",
    "customizedData.head()"
   ]
  },
  {
   "cell_type": "code",
   "execution_count": 56,
   "metadata": {},
   "outputs": [
    {
     "data": {
      "text/plain": [
       "(20, 6)"
      ]
     },
     "metadata": {},
     "output_type": "display_data"
    },
    {
     "data": {
      "text/plain": [
       "(2222285, 18)"
      ]
     },
     "metadata": {},
     "output_type": "display_data"
    }
   ],
   "source": [
    "display(customizedData.shape)\n",
    "modifiedData = customizedData.merge(dfA, on=similar_column).merge(dfB, on=similar_column).merge(dfC, on=similar_column)\n",
    "display(modifiedData.shape)"
   ]
  }
 ],
 "metadata": {
  "kernelspec": {
   "display_name": "venv",
   "language": "python",
   "name": "python3"
  },
  "language_info": {
   "codemirror_mode": {
    "name": "ipython",
    "version": 3
   },
   "file_extension": ".py",
   "mimetype": "text/x-python",
   "name": "python",
   "nbconvert_exporter": "python",
   "pygments_lexer": "ipython3",
   "version": "3.12.3"
  }
 },
 "nbformat": 4,
 "nbformat_minor": 2
}
